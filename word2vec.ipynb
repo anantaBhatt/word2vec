{
 "cells": [
  {
   "cell_type": "code",
   "execution_count": 1,
   "metadata": {
    "_cell_guid": "b1076dfc-b9ad-4769-8c92-a6c4dae69d19",
    "_uuid": "8f2839f25d086af736a60e9eeb907d3b93b6e0e5"
   },
   "outputs": [
    {
     "name": "stdout",
     "output_type": "stream",
     "text": [
      "['GoogleNews-vectors-negative300.bin']\n"
     ]
    }
   ],
   "source": [
    "# This Python 3 environment comes with many helpful analytics libraries installed\n",
    "# It is defined by the kaggle/python docker image: https://github.com/kaggle/docker-python\n",
    "# For example, here's several helpful packages to load in \n",
    "\n",
    "import numpy as np # linear algebra\n",
    "import pandas as pd # data processing, CSV file I/O (e.g. pd.read_csv)\n",
    "\n",
    "# Input data files are available in the \"../input/\" directory.\n",
    "# For example, running this (by clicking run or pressing Shift+Enter) will list the files in the input directory\n",
    "\n",
    "import os\n",
    "print(os.listdir(\"../input\"))\n",
    "\n",
    "# Any results you write to the current directory are saved as output."
   ]
  },
  {
   "cell_type": "code",
   "execution_count": 2,
   "metadata": {
    "_cell_guid": "79c7e3d0-c299-4dcb-8224-4455121ee9b0",
    "_uuid": "d629ff2d2480ee46fbb7e2d37f6b5fab8052498a"
   },
   "outputs": [],
   "source": [
    "stop_words=['is','the','of','has','and','are','like']\n",
    "corpus=[\n",
    "    'apple is fruit',\n",
    "    'banana is fruit',\n",
    "    'peach is fruit',\n",
    "    'the color of apple is red',\n",
    "    'the skin of banana is yellow',\n",
    "    'peach is pink',\n",
    "    'fruit has color',\n",
    "    'monkey like yellow banana',\n",
    "    'kids like red apple',\n",
    "    'monkey like peach pink',\n",
    "    'yellow red and pink are color',\n",
    "]\n",
    "def remove_stop_words(corpus):\n",
    "    stop_words=['is','the','of','has','and','are','like']\n",
    "    corpus_stop_words = []\n",
    "    for word in corpus:\n",
    "        temp = word.split(' ')\n",
    "        for remove_stop in stop_words:\n",
    "            if remove_stop in temp:\n",
    "                temp.remove(remove_stop)\n",
    "        corpus_stop_words.append(\" \".join(temp))\n",
    "    \n",
    "    return corpus_stop_words\n",
    "corpus = remove_stop_words(corpus)"
   ]
  },
  {
   "cell_type": "code",
   "execution_count": 3,
   "metadata": {},
   "outputs": [
    {
     "name": "stdout",
     "output_type": "stream",
     "text": [
      "Num of words - 160\n"
     ]
    }
   ],
   "source": [
    "num_of_words = 0\n",
    "for line in corpus:\n",
    "    num_of_words += len(line)\n",
    "print('Num of words - %s'%(num_of_words))\n"
   ]
  },
  {
   "cell_type": "code",
   "execution_count": 4,
   "metadata": {},
   "outputs": [],
   "source": [
    "words_append = []\n",
    "for alphabet in corpus:\n",
    "    for word in alphabet.split(' '):\n",
    "        words_append.append(word)\n",
    "\n",
    "words_append = set(words_append)\n",
    "\n",
    "word2int = {}\n",
    "#Storing index position\n",
    "for i,text in enumerate(words_append):\n",
    "    word2int[text] = i\n",
    "\n",
    "string_of_words = []\n",
    "for word in corpus:\n",
    "    string_of_words.append(word.split())\n",
    "window = 2\n",
    "\n",
    "sets_data = []\n",
    "for text in string_of_words:\n",
    "    for word_text, word in enumerate(text):\n",
    "        for adjoint in text[max(word_text - window, 0) : min(word_text + window, len(text)) + 1] : \n",
    "            if adjoint != word:\n",
    "                sets_data.append([word, adjoint])"
   ]
  },
  {
   "cell_type": "code",
   "execution_count": 5,
   "metadata": {},
   "outputs": [
    {
     "name": "stdout",
     "output_type": "stream",
     "text": [
      "apple fruit\n",
      "banana fruit\n",
      "peach fruit\n",
      "color apple red\n",
      "skin banana yellow\n",
      "peach pink\n",
      "fruit color\n",
      "monkey yellow banana\n",
      "kids red apple\n",
      "monkey peach pink\n",
      "yellow red pink color\n"
     ]
    }
   ],
   "source": [
    "import pandas as pd\n",
    "for word in corpus:\n",
    "    print(word)\n",
    "\n",
    "data_frame = pd.DataFrame(sets_data, columns = ['input', 'label'])"
   ]
  },
  {
   "cell_type": "code",
   "execution_count": 6,
   "metadata": {},
   "outputs": [
    {
     "name": "stdout",
     "output_type": "stream",
     "text": [
      "WARNING:tensorflow:From /opt/conda/lib/python3.6/site-packages/tensorflow/python/framework/op_def_library.py:263: colocate_with (from tensorflow.python.framework.ops) is deprecated and will be removed in a future version.\n",
      "Instructions for updating:\n",
      "Colocations handled automatically by placer.\n",
      "WARNING:tensorflow:From /opt/conda/lib/python3.6/site-packages/tensorflow/python/ops/math_ops.py:3066: to_int32 (from tensorflow.python.ops.math_ops) is deprecated and will be removed in a future version.\n",
      "Instructions for updating:\n",
      "Use tf.cast instead.\n"
     ]
    }
   ],
   "source": [
    "import tensorflow as tf\n",
    "import numpy as np\n",
    "\n",
    "one_hot = len(words_append)\n",
    "X = [] \n",
    "Y = [] \n",
    "\n",
    "# converting to one hot vectors\n",
    "def one_hot_encoding(data_point_index):\n",
    "    one_hot_encoding = np.zeros(one_hot)\n",
    "    one_hot_encoding[data_point_index] = 1\n",
    "    return one_hot_encoding\n",
    "\n",
    "for x, y in zip(data_frame['input'], data_frame['label']):\n",
    "    X.append(one_hot_encoding(word2int[ x ]))\n",
    "    Y.append(one_hot_encoding(word2int[ y ]))\n",
    "\n",
    "# convert to numpy arrays\n",
    "X_train = np.asarray(X)\n",
    "Y_train = np.asarray(Y)\n",
    "\n",
    "# placeholders \n",
    "x = tf.placeholder(tf.float32, shape=(None, one_hot))\n",
    "y_label = tf.placeholder(tf.float32, shape=(None, one_hot))\n",
    "\n",
    "# embedding dimension\n",
    "embedding_dim = 2 \n",
    "\n",
    "# hidden layer\n",
    "W1 = tf.Variable(tf.random_normal([one_hot, embedding_dim]))\n",
    "b1 = tf.Variable(tf.random_normal([1])) #bias\n",
    "hidden_layer = tf.add(tf.matmul(x,W1), b1)\n",
    "\n",
    "# output layer\n",
    "W2 = tf.Variable(tf.random_normal([embedding_dim, one_hot]))\n",
    "b2 = tf.Variable(tf.random_normal([1]))\n",
    "prediction = tf.nn.softmax(tf.add( tf.matmul(hidden_layer, W2), b2))\n",
    "\n",
    "# loss function\n",
    "loss = tf.reduce_mean(-tf.reduce_sum(y_label * tf.log(prediction), axis=[1]))\n",
    "\n",
    "# training\n",
    "train = tf.train.GradientDescentOptimizer(0.05).minimize(loss)"
   ]
  },
  {
   "cell_type": "code",
   "execution_count": 7,
   "metadata": {},
   "outputs": [
    {
     "name": "stdout",
     "output_type": "stream",
     "text": [
      "iteration 0 loss is :  3.6888604\n",
      "iteration 3000 loss is :  1.9243283\n",
      "iteration 6000 loss is :  1.8428564\n",
      "iteration 9000 loss is :  1.823265\n",
      "iteration 12000 loss is :  1.8138418\n",
      "iteration 15000 loss is :  1.8063703\n",
      "iteration 18000 loss is :  1.7983594\n"
     ]
    }
   ],
   "source": [
    "sess = tf.Session()\n",
    "init = tf.global_variables_initializer()\n",
    "sess.run(init) \n",
    "iteration = 20000\n",
    "for i in range(iteration):\n",
    "    sess.run(train, feed_dict={x: X_train, y_label: Y_train})\n",
    "    if i % 3000 == 0:\n",
    "        print('iteration '+str(i)+' loss is : ', sess.run(loss, feed_dict={x: X_train, y_label: Y_train}))"
   ]
  },
  {
   "cell_type": "code",
   "execution_count": 8,
   "metadata": {},
   "outputs": [
    {
     "name": "stdout",
     "output_type": "stream",
     "text": [
      "[[ 0.04525757  0.4527635 ]\n",
      " [ 1.4918898  -3.3540804 ]\n",
      " [-3.2688763   0.52802217]\n",
      " [-3.4818594   0.5506753 ]\n",
      " [ 0.24738657 -2.7198927 ]\n",
      " [-0.07451829 -0.05576921]\n",
      " [-1.4659561   0.22306311]\n",
      " [ 2.885183    3.1579273 ]\n",
      " [ 0.4671663   0.7648525 ]\n",
      " [ 1.0157261  -1.7913674 ]\n",
      " [-4.4078474  -3.0777078 ]]\n"
     ]
    },
    {
     "data": {
      "text/html": [
       "<div>\n",
       "<style scoped>\n",
       "    .dataframe tbody tr th:only-of-type {\n",
       "        vertical-align: middle;\n",
       "    }\n",
       "\n",
       "    .dataframe tbody tr th {\n",
       "        vertical-align: top;\n",
       "    }\n",
       "\n",
       "    .dataframe thead th {\n",
       "        text-align: right;\n",
       "    }\n",
       "</style>\n",
       "<table border=\"1\" class=\"dataframe\">\n",
       "  <thead>\n",
       "    <tr style=\"text-align: right;\">\n",
       "      <th></th>\n",
       "      <th>word</th>\n",
       "      <th>x1</th>\n",
       "      <th>x2</th>\n",
       "    </tr>\n",
       "  </thead>\n",
       "  <tbody>\n",
       "    <tr>\n",
       "      <th>0</th>\n",
       "      <td>color</td>\n",
       "      <td>0.045258</td>\n",
       "      <td>0.452763</td>\n",
       "    </tr>\n",
       "    <tr>\n",
       "      <th>1</th>\n",
       "      <td>fruit</td>\n",
       "      <td>1.491890</td>\n",
       "      <td>-3.354080</td>\n",
       "    </tr>\n",
       "    <tr>\n",
       "      <th>2</th>\n",
       "      <td>banana</td>\n",
       "      <td>-3.268876</td>\n",
       "      <td>0.528022</td>\n",
       "    </tr>\n",
       "    <tr>\n",
       "      <th>3</th>\n",
       "      <td>yellow</td>\n",
       "      <td>-3.481859</td>\n",
       "      <td>0.550675</td>\n",
       "    </tr>\n",
       "    <tr>\n",
       "      <th>4</th>\n",
       "      <td>monkey</td>\n",
       "      <td>0.247387</td>\n",
       "      <td>-2.719893</td>\n",
       "    </tr>\n",
       "    <tr>\n",
       "      <th>5</th>\n",
       "      <td>pink</td>\n",
       "      <td>-0.074518</td>\n",
       "      <td>-0.055769</td>\n",
       "    </tr>\n",
       "    <tr>\n",
       "      <th>6</th>\n",
       "      <td>peach</td>\n",
       "      <td>-1.465956</td>\n",
       "      <td>0.223063</td>\n",
       "    </tr>\n",
       "    <tr>\n",
       "      <th>7</th>\n",
       "      <td>kids</td>\n",
       "      <td>2.885183</td>\n",
       "      <td>3.157927</td>\n",
       "    </tr>\n",
       "    <tr>\n",
       "      <th>8</th>\n",
       "      <td>apple</td>\n",
       "      <td>0.467166</td>\n",
       "      <td>0.764853</td>\n",
       "    </tr>\n",
       "    <tr>\n",
       "      <th>9</th>\n",
       "      <td>red</td>\n",
       "      <td>1.015726</td>\n",
       "      <td>-1.791367</td>\n",
       "    </tr>\n",
       "    <tr>\n",
       "      <th>10</th>\n",
       "      <td>skin</td>\n",
       "      <td>-4.407847</td>\n",
       "      <td>-3.077708</td>\n",
       "    </tr>\n",
       "  </tbody>\n",
       "</table>\n",
       "</div>"
      ],
      "text/plain": [
       "      word        x1        x2\n",
       "0    color  0.045258  0.452763\n",
       "1    fruit  1.491890 -3.354080\n",
       "2   banana -3.268876  0.528022\n",
       "3   yellow -3.481859  0.550675\n",
       "4   monkey  0.247387 -2.719893\n",
       "5     pink -0.074518 -0.055769\n",
       "6    peach -1.465956  0.223063\n",
       "7     kids  2.885183  3.157927\n",
       "8    apple  0.467166  0.764853\n",
       "9      red  1.015726 -1.791367\n",
       "10    skin -4.407847 -3.077708"
      ]
     },
     "execution_count": 8,
     "metadata": {},
     "output_type": "execute_result"
    }
   ],
   "source": [
    "vec = sess.run(W1 + b1)\n",
    "print(vec)\n",
    "word2vec = pd.DataFrame(vec, columns = ['x1', 'x2'])\n",
    "word2vec['word'] = words_append\n",
    "word2vec = word2vec[['word', 'x1', 'x2']]\n",
    "word2vec"
   ]
  },
  {
   "cell_type": "code",
   "execution_count": 9,
   "metadata": {},
   "outputs": [
    {
     "data": {
      "image/png": "[encoded data removed]",
      "text/plain": [
       "<Figure size 432x288 with 1 Axes>"
      ]
     },
     "metadata": {},
     "output_type": "display_data"
    }
   ],
   "source": [
    "import matplotlib.pyplot as plt\n",
    "\n",
    "fig, ax = plt.subplots()\n",
    "\n",
    "for word, x1, x2 in zip(word2vec['word'], word2vec['x1'], word2vec['x2']):\n",
    "    ax.annotate(word, (x1,x2 ))\n",
    "    \n",
    "pad = 1.0\n",
    "x_axis_min = np.amin(vec, axis=0)[0] - pad\n",
    "y_axis_min = np.amin(vec, axis=0)[1] - pad\n",
    "x_axis_max = np.amax(vec, axis=0)[0] + pad\n",
    "y_axis_max = np.amax(vec, axis=0)[1] + pad\n",
    " \n",
    "plt.xlim(x_axis_min,x_axis_max)\n",
    "plt.ylim(y_axis_min,y_axis_max)\n",
    "plt.rcParams[\"figure.figsize\"] = (10,10)\n",
    "\n",
    "plt.show()"
   ]
  }
 ],
 "metadata": {
  "kernelspec": {
   "display_name": "Python 3",
   "language": "python",
   "name": "python3"
  },
  "language_info": {
   "codemirror_mode": {
    "name": "ipython",
    "version": 3
   },
   "file_extension": ".py",
   "mimetype": "text/x-python",
   "name": "python",
   "nbconvert_exporter": "python",
   "pygments_lexer": "ipython3",
   "version": "3.6.4"
  }
 },
 "nbformat": 4,
 "nbformat_minor": 1
}
